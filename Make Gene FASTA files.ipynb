{
 "cells": [
  {
   "cell_type": "code",
   "execution_count": 1,
   "metadata": {},
   "outputs": [],
   "source": [
    "from Bio import SeqIO\n",
    "import glob\n",
    "import re\n",
    "import pandas as pd"
   ]
  },
  {
   "cell_type": "code",
   "execution_count": 2,
   "metadata": {},
   "outputs": [
    {
     "data": {
      "text/plain": [
       "['Organism_FASTA_Files\\\\Acidiphilium_cryptum.fasta',\n",
       " 'Organism_FASTA_Files\\\\Bacillus_cereus.fasta',\n",
       " 'Organism_FASTA_Files\\\\Bacillus_subtilis.fasta',\n",
       " 'Organism_FASTA_Files\\\\Bacteroides_fragilis .fasta',\n",
       " 'Organism_FASTA_Files\\\\Bacteroides_thetaiotaomicron.fasta',\n",
       " 'Organism_FASTA_Files\\\\Cellulophaga_baltica_18.fasta',\n",
       " 'Organism_FASTA_Files\\\\Cellvibrio_gilvus.fasta',\n",
       " 'Organism_FASTA_Files\\\\Clostridium_ljungdahlii.fasta',\n",
       " 'Organism_FASTA_Files\\\\Coprococcus_comes.fasta',\n",
       " 'Organism_FASTA_Files\\\\Cupriavidus_necator.fasta',\n",
       " 'Organism_FASTA_Files\\\\Delftia_acidovorans.fasta',\n",
       " 'Organism_FASTA_Files\\\\Rhodopseudomonas_palustris.fasta',\n",
       " 'Organism_FASTA_Files\\\\Ruminococcus_gnavus.fasta',\n",
       " 'Organism_FASTA_Files\\\\Stigmatella_aurantiaca.fasta',\n",
       " 'Organism_FASTA_Files\\\\Streptomyces griseorubens.fasta',\n",
       " 'Organism_FASTA_Files\\\\Sulfobacillus _hermosulfidooxidans.fasta']"
      ]
     },
     "execution_count": 2,
     "metadata": {},
     "output_type": "execute_result"
    }
   ],
   "source": [
    "files = glob.glob('Organism_FASTA_Files/*.fasta')\n",
    "files"
   ]
  },
  {
   "cell_type": "code",
   "execution_count": 3,
   "metadata": {},
   "outputs": [],
   "source": [
    "outfile = open('organism_genes.csv', 'w')\n",
    "outfile.write('Organism,Gene,Sequence\\n')\n",
    "for file in files:\n",
    "    organism = re.search('(?<=\\\\\\).*(?=\\.fasta)', file)\n",
    "    organism = organism.group()\n",
    "    for seq_record in SeqIO.parse(file, 'fasta'):\n",
    "        description = seq_record.description\n",
    "        gene_name = re.search('(?<=GN=)\\S*', description)\n",
    "        if gene_name:\n",
    "            gene_name = gene_name.group() \n",
    "            outfile.write(str(organism + ',' + gene_name + ',' + seq_record.seq +'\\n'))\n",
    "outfile.close()     \n",
    "            \n",
    "        "
   ]
  },
  {
   "cell_type": "code",
   "execution_count": 4,
   "metadata": {},
   "outputs": [
    {
     "data": {
      "text/html": [
       "<div>\n",
       "<style scoped>\n",
       "    .dataframe tbody tr th:only-of-type {\n",
       "        vertical-align: middle;\n",
       "    }\n",
       "\n",
       "    .dataframe tbody tr th {\n",
       "        vertical-align: top;\n",
       "    }\n",
       "\n",
       "    .dataframe thead th {\n",
       "        text-align: right;\n",
       "    }\n",
       "</style>\n",
       "<table border=\"1\" class=\"dataframe\">\n",
       "  <thead>\n",
       "    <tr style=\"text-align: right;\">\n",
       "      <th></th>\n",
       "      <th>Organism</th>\n",
       "      <th>Gene</th>\n",
       "      <th>Sequence</th>\n",
       "    </tr>\n",
       "  </thead>\n",
       "  <tbody>\n",
       "    <tr>\n",
       "      <th>0</th>\n",
       "      <td>Acidiphilium_cryptum</td>\n",
       "      <td>nuoN2</td>\n",
       "      <td>MTAPAFTAKAFAAFAPFTLLGAVTILVMLLIAVRRDHRLVALSTIA...</td>\n",
       "    </tr>\n",
       "    <tr>\n",
       "      <th>1</th>\n",
       "      <td>Acidiphilium_cryptum</td>\n",
       "      <td>rlmE</td>\n",
       "      <td>MTEETIGSRRRAAVRLKAARKHKPSSQKWLLRQLNDPYVAAAKERG...</td>\n",
       "    </tr>\n",
       "    <tr>\n",
       "      <th>2</th>\n",
       "      <td>Acidiphilium_cryptum</td>\n",
       "      <td>Acry_0770</td>\n",
       "      <td>MIPRLTDAERAALVDLLPEWSLAKDRDAIERRFAFADFSEAFAFMT...</td>\n",
       "    </tr>\n",
       "    <tr>\n",
       "      <th>3</th>\n",
       "      <td>Acidiphilium_cryptum</td>\n",
       "      <td>pth</td>\n",
       "      <td>MKLWVGLGNPEPGMARNRHNIGFMAIDVIADRHGFAPWRKRFSGLV...</td>\n",
       "    </tr>\n",
       "    <tr>\n",
       "      <th>4</th>\n",
       "      <td>Acidiphilium_cryptum</td>\n",
       "      <td>rplN</td>\n",
       "      <td>MIIVESNLDVADNSGARRVQCIKVLGGSKRRTASVGDVIVVSIKDA...</td>\n",
       "    </tr>\n",
       "    <tr>\n",
       "      <th>...</th>\n",
       "      <td>...</td>\n",
       "      <td>...</td>\n",
       "      <td>...</td>\n",
       "    </tr>\n",
       "    <tr>\n",
       "      <th>75649</th>\n",
       "      <td>Sulfobacillus _hermosulfidooxidans</td>\n",
       "      <td>C7B47_13575</td>\n",
       "      <td>MIRRSLLARWMLITSSVVALSLMTWALFSLFNVKTPEPARVMPVAH...</td>\n",
       "    </tr>\n",
       "    <tr>\n",
       "      <th>75650</th>\n",
       "      <td>Sulfobacillus _hermosulfidooxidans</td>\n",
       "      <td>mtaD</td>\n",
       "      <td>MRYRIETDAILTMDDEFRVFRPGQLTWEDGTIVSVGPVADDATPVD...</td>\n",
       "    </tr>\n",
       "    <tr>\n",
       "      <th>75651</th>\n",
       "      <td>Sulfobacillus _hermosulfidooxidans</td>\n",
       "      <td>crcB</td>\n",
       "      <td>MNDIIIFVGGFLGAVARFQVGQWVGQRTSGGFPYGTLVINTLGCLF...</td>\n",
       "    </tr>\n",
       "    <tr>\n",
       "      <th>75652</th>\n",
       "      <td>Sulfobacillus _hermosulfidooxidans</td>\n",
       "      <td>C7B47_12330</td>\n",
       "      <td>MIFIFPFRGGTTRIYYDDSQSGSGSMSTHLTVKGTTVTVSPWFNNQ...</td>\n",
       "    </tr>\n",
       "    <tr>\n",
       "      <th>75653</th>\n",
       "      <td>Sulfobacillus _hermosulfidooxidans</td>\n",
       "      <td>C7B47_09860</td>\n",
       "      <td>MSTVLLVVIGLITGALTGFGGGSAVVIVVPALTQFLHIPFRMAVGT...</td>\n",
       "    </tr>\n",
       "  </tbody>\n",
       "</table>\n",
       "<p>75654 rows × 3 columns</p>\n",
       "</div>"
      ],
      "text/plain": [
       "                                 Organism         Gene  \\\n",
       "0                    Acidiphilium_cryptum        nuoN2   \n",
       "1                    Acidiphilium_cryptum         rlmE   \n",
       "2                    Acidiphilium_cryptum    Acry_0770   \n",
       "3                    Acidiphilium_cryptum          pth   \n",
       "4                    Acidiphilium_cryptum         rplN   \n",
       "...                                   ...          ...   \n",
       "75649  Sulfobacillus _hermosulfidooxidans  C7B47_13575   \n",
       "75650  Sulfobacillus _hermosulfidooxidans         mtaD   \n",
       "75651  Sulfobacillus _hermosulfidooxidans         crcB   \n",
       "75652  Sulfobacillus _hermosulfidooxidans  C7B47_12330   \n",
       "75653  Sulfobacillus _hermosulfidooxidans  C7B47_09860   \n",
       "\n",
       "                                                Sequence  \n",
       "0      MTAPAFTAKAFAAFAPFTLLGAVTILVMLLIAVRRDHRLVALSTIA...  \n",
       "1      MTEETIGSRRRAAVRLKAARKHKPSSQKWLLRQLNDPYVAAAKERG...  \n",
       "2      MIPRLTDAERAALVDLLPEWSLAKDRDAIERRFAFADFSEAFAFMT...  \n",
       "3      MKLWVGLGNPEPGMARNRHNIGFMAIDVIADRHGFAPWRKRFSGLV...  \n",
       "4      MIIVESNLDVADNSGARRVQCIKVLGGSKRRTASVGDVIVVSIKDA...  \n",
       "...                                                  ...  \n",
       "75649  MIRRSLLARWMLITSSVVALSLMTWALFSLFNVKTPEPARVMPVAH...  \n",
       "75650  MRYRIETDAILTMDDEFRVFRPGQLTWEDGTIVSVGPVADDATPVD...  \n",
       "75651  MNDIIIFVGGFLGAVARFQVGQWVGQRTSGGFPYGTLVINTLGCLF...  \n",
       "75652  MIFIFPFRGGTTRIYYDDSQSGSGSMSTHLTVKGTTVTVSPWFNNQ...  \n",
       "75653  MSTVLLVVIGLITGALTGFGGGSAVVIVVPALTQFLHIPFRMAVGT...  \n",
       "\n",
       "[75654 rows x 3 columns]"
      ]
     },
     "execution_count": 4,
     "metadata": {},
     "output_type": "execute_result"
    }
   ],
   "source": [
    "organism_genes = pd.read_csv('organism_genes.csv')\n",
    "organism_genes"
   ]
  },
  {
   "cell_type": "code",
   "execution_count": 5,
   "metadata": {},
   "outputs": [
    {
     "data": {
      "text/html": [
       "<div>\n",
       "<style scoped>\n",
       "    .dataframe tbody tr th:only-of-type {\n",
       "        vertical-align: middle;\n",
       "    }\n",
       "\n",
       "    .dataframe tbody tr th {\n",
       "        vertical-align: top;\n",
       "    }\n",
       "\n",
       "    .dataframe thead th {\n",
       "        text-align: right;\n",
       "    }\n",
       "</style>\n",
       "<table border=\"1\" class=\"dataframe\">\n",
       "  <thead>\n",
       "    <tr style=\"text-align: right;\">\n",
       "      <th></th>\n",
       "      <th>Unnamed: 0</th>\n",
       "      <th>Gene</th>\n",
       "      <th>Organism</th>\n",
       "    </tr>\n",
       "  </thead>\n",
       "  <tbody>\n",
       "    <tr>\n",
       "      <th>0</th>\n",
       "      <td>2</td>\n",
       "      <td>rsfS</td>\n",
       "      <td>acidovorans</td>\n",
       "    </tr>\n",
       "    <tr>\n",
       "      <th>1</th>\n",
       "      <td>6</td>\n",
       "      <td>infB</td>\n",
       "      <td>acidovorans</td>\n",
       "    </tr>\n",
       "    <tr>\n",
       "      <th>2</th>\n",
       "      <td>9</td>\n",
       "      <td>rpsF</td>\n",
       "      <td>acidovorans</td>\n",
       "    </tr>\n",
       "    <tr>\n",
       "      <th>3</th>\n",
       "      <td>10</td>\n",
       "      <td>nusG</td>\n",
       "      <td>acidovorans</td>\n",
       "    </tr>\n",
       "    <tr>\n",
       "      <th>4</th>\n",
       "      <td>14</td>\n",
       "      <td>rplM</td>\n",
       "      <td>acidovorans</td>\n",
       "    </tr>\n",
       "    <tr>\n",
       "      <th>...</th>\n",
       "      <td>...</td>\n",
       "      <td>...</td>\n",
       "      <td>...</td>\n",
       "    </tr>\n",
       "    <tr>\n",
       "      <th>2089</th>\n",
       "      <td>139883</td>\n",
       "      <td>pyrB</td>\n",
       "      <td>thet</td>\n",
       "    </tr>\n",
       "    <tr>\n",
       "      <th>2090</th>\n",
       "      <td>140272</td>\n",
       "      <td>ddl</td>\n",
       "      <td>thet</td>\n",
       "    </tr>\n",
       "    <tr>\n",
       "      <th>2091</th>\n",
       "      <td>140387</td>\n",
       "      <td>ftsH</td>\n",
       "      <td>thet</td>\n",
       "    </tr>\n",
       "    <tr>\n",
       "      <th>2092</th>\n",
       "      <td>140503</td>\n",
       "      <td>ychF</td>\n",
       "      <td>thet</td>\n",
       "    </tr>\n",
       "    <tr>\n",
       "      <th>2093</th>\n",
       "      <td>140789</td>\n",
       "      <td>tatA</td>\n",
       "      <td>thet</td>\n",
       "    </tr>\n",
       "  </tbody>\n",
       "</table>\n",
       "<p>2094 rows × 3 columns</p>\n",
       "</div>"
      ],
      "text/plain": [
       "      Unnamed: 0  Gene     Organism\n",
       "0              2  rsfS  acidovorans\n",
       "1              6  infB  acidovorans\n",
       "2              9  rpsF  acidovorans\n",
       "3             10  nusG  acidovorans\n",
       "4             14  rplM  acidovorans\n",
       "...          ...   ...          ...\n",
       "2089      139883  pyrB         thet\n",
       "2090      140272   ddl         thet\n",
       "2091      140387  ftsH         thet\n",
       "2092      140503  ychF         thet\n",
       "2093      140789  tatA         thet\n",
       "\n",
       "[2094 rows x 3 columns]"
      ]
     },
     "execution_count": 5,
     "metadata": {},
     "output_type": "execute_result"
    }
   ],
   "source": [
    "conserved_genes = pd.read_csv('Homologous_genes.csv')\n",
    "conserved_genes"
   ]
  },
  {
   "cell_type": "code",
   "execution_count": 6,
   "metadata": {},
   "outputs": [
    {
     "name": "stdout",
     "output_type": "stream",
     "text": [
      "218\n"
     ]
    }
   ],
   "source": [
    "genes = pd.unique(conserved_genes.Gene)\n",
    "print(len(genes))\n",
    "for gene in genes:\n",
    "    df = organism_genes[organism_genes.Gene == gene]\n",
    "    file_name = str('Gene_FASTA_Files\\\\' + gene + '.fasta')\n",
    "    outfile = open(file_name, 'w')\n",
    "    for row in df.itertuples():\n",
    "        header = str('> ' + row.Organism + ' ' + row.Gene + '\\n')\n",
    "        outfile.write(header)\n",
    "        outfile.write(row.Sequence)\n",
    "        outfile.write('\\n')\n",
    "    outfile.close()              "
   ]
  },
  {
   "cell_type": "code",
   "execution_count": 7,
   "metadata": {},
   "outputs": [
    {
     "data": {
      "text/plain": [
       "7"
      ]
     },
     "execution_count": 7,
     "metadata": {},
     "output_type": "execute_result"
    }
   ],
   "source": [
    "len(conserved_genes[~conserved_genes.Gene.isin(organism_genes.Gene)])"
   ]
  }
 ],
 "metadata": {
  "kernelspec": {
   "display_name": "Python 3",
   "language": "python",
   "name": "python3"
  },
  "language_info": {
   "codemirror_mode": {
    "name": "ipython",
    "version": 3
   },
   "file_extension": ".py",
   "mimetype": "text/x-python",
   "name": "python",
   "nbconvert_exporter": "python",
   "pygments_lexer": "ipython3",
   "version": "3.8.3"
  }
 },
 "nbformat": 4,
 "nbformat_minor": 4
}
