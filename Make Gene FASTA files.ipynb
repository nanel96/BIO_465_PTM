{
 "cells": [
  {
   "cell_type": "code",
   "execution_count": 1,
   "metadata": {},
   "outputs": [],
   "source": [
    "from Bio import SeqIO\n",
    "import glob\n",
    "import re\n",
    "import pandas as pd"
   ]
  },
  {
   "cell_type": "code",
   "execution_count": 2,
   "metadata": {},
   "outputs": [
    {
     "name": "stdout",
     "output_type": "stream",
     "text": [
      "20\n"
     ]
    },
    {
     "data": {
      "text/plain": [
       "['Organism_FASTA_Files\\\\Acidiphilium_cryptum.fasta',\n",
       " 'Organism_FASTA_Files\\\\Bacillus_cereus.fasta',\n",
       " 'Organism_FASTA_Files\\\\Bacillus_subtilis_168.fasta',\n",
       " 'Organism_FASTA_Files\\\\Bacteroides_fragilis.fasta',\n",
       " 'Organism_FASTA_Files\\\\Bacteroides_thetaiotaomicron.fasta',\n",
       " 'Organism_FASTA_Files\\\\Cellulophaga_baltica_18.fasta',\n",
       " 'Organism_FASTA_Files\\\\Cellvibrio_gilvus.fasta',\n",
       " 'Organism_FASTA_Files\\\\Chryseobacterium_indologenes2.fasta',\n",
       " 'Organism_FASTA_Files\\\\Citrobacter_freundii.fasta',\n",
       " 'Organism_FASTA_Files\\\\Coprococcus_comes.fasta',\n",
       " 'Organism_FASTA_Files\\\\Cupriavidus_necator.fasta',\n",
       " 'Organism_FASTA_Files\\\\Delftia_acidovorans.fasta',\n",
       " 'Organism_FASTA_Files\\\\Mycobacterium_smegmatis.fasta',\n",
       " 'Organism_FASTA_Files\\\\Paracoccus_dentrificans.fasta',\n",
       " 'Organism_FASTA_Files\\\\Rhizobium_radiobacte.fasta',\n",
       " 'Organism_FASTA_Files\\\\Rhodopseudomonas_palustris.fasta',\n",
       " 'Organism_FASTA_Files\\\\Ruminococcus_gnavus.fasta',\n",
       " 'Organism_FASTA_Files\\\\Stigmatella_aurantiaca.fasta',\n",
       " 'Organism_FASTA_Files\\\\Streptomyces griseorubens.fasta',\n",
       " 'Organism_FASTA_Files\\\\Sulfobacillus _hermosulfidooxidans.fasta']"
      ]
     },
     "execution_count": 2,
     "metadata": {},
     "output_type": "execute_result"
    }
   ],
   "source": [
    "files = glob.glob('Organism_FASTA_Files/*.fasta')\n",
    "print(len(files))\n",
    "files"
   ]
  },
  {
   "cell_type": "code",
   "execution_count": 3,
   "metadata": {},
   "outputs": [
    {
     "name": "stdout",
     "output_type": "stream",
     "text": [
      "Acidiphilium_cryptum\n",
      "Bacillus_cereus\n",
      "Bacillus_subtilis_168\n",
      "Bacteroides_fragilis\n",
      "Bacteroides_thetaiotaomicron\n",
      "Cellulophaga_baltica_18\n",
      "Cellvibrio_gilvus\n",
      "Chryseobacterium_indologenes2\n",
      "Citrobacter_freundii\n",
      "Coprococcus_comes\n",
      "Cupriavidus_necator\n",
      "Delftia_acidovorans\n",
      "Mycobacterium_smegmatis\n",
      "Paracoccus_dentrificans\n",
      "Rhizobium_radiobacte\n",
      "Rhodopseudomonas_palustris\n",
      "Ruminococcus_gnavus\n",
      "Stigmatella_aurantiaca\n",
      "Streptomyces griseorubens\n",
      "Sulfobacillus _hermosulfidooxidans\n"
     ]
    }
   ],
   "source": [
    "outfile = open('organism_genes.csv', 'w')\n",
    "outfile.write('Organism,Gene,Sequence\\n')\n",
    "for file in files:\n",
    "    organism = re.search('(?<=\\\\\\).*(?=\\.fasta)', file)\n",
    "    organism = organism.group()\n",
    "    print(organism)\n",
    "    genes = []\n",
    "    multiple_copies = {}\n",
    "    for seq_record in SeqIO.parse(file, 'fasta'):\n",
    "        description = seq_record.description\n",
    "        gene_name = re.search('(?<=GN=)\\S*', description)\n",
    "        if gene_name:\n",
    "            gene_name = gene_name.group() \n",
    "            if gene_name in genes:\n",
    "                if gene_name in multiple_copies:\n",
    "                    multiple_copies[gene_name] = multiple_copies[gene_name] + 1\n",
    "                else:\n",
    "                    multiple_copies[gene_name] = 1\n",
    "                gene_name = str(gene_name + ' alt version ' + str(multiple_copies[gene_name]))\n",
    "            else:\n",
    "                genes.append(gene_name)\n",
    "            outfile.write(str(organism + ',' + gene_name + ',' + seq_record.seq +'\\n'))\n",
    "outfile.close()     \n",
    "            \n",
    "        "
   ]
  },
  {
   "cell_type": "code",
   "execution_count": 4,
   "metadata": {},
   "outputs": [
    {
     "data": {
      "text/html": [
       "<div>\n",
       "<style scoped>\n",
       "    .dataframe tbody tr th:only-of-type {\n",
       "        vertical-align: middle;\n",
       "    }\n",
       "\n",
       "    .dataframe tbody tr th {\n",
       "        vertical-align: top;\n",
       "    }\n",
       "\n",
       "    .dataframe thead th {\n",
       "        text-align: right;\n",
       "    }\n",
       "</style>\n",
       "<table border=\"1\" class=\"dataframe\">\n",
       "  <thead>\n",
       "    <tr style=\"text-align: right;\">\n",
       "      <th></th>\n",
       "      <th>Organism</th>\n",
       "      <th>Gene</th>\n",
       "      <th>Sequence</th>\n",
       "    </tr>\n",
       "  </thead>\n",
       "  <tbody>\n",
       "    <tr>\n",
       "      <th>0</th>\n",
       "      <td>Acidiphilium_cryptum</td>\n",
       "      <td>nuoN2</td>\n",
       "      <td>MTAPAFTAKAFAAFAPFTLLGAVTILVMLLIAVRRDHRLVALSTIA...</td>\n",
       "    </tr>\n",
       "    <tr>\n",
       "      <th>1</th>\n",
       "      <td>Acidiphilium_cryptum</td>\n",
       "      <td>rlmE</td>\n",
       "      <td>MTEETIGSRRRAAVRLKAARKHKPSSQKWLLRQLNDPYVAAAKERG...</td>\n",
       "    </tr>\n",
       "    <tr>\n",
       "      <th>2</th>\n",
       "      <td>Acidiphilium_cryptum</td>\n",
       "      <td>Acry_0770</td>\n",
       "      <td>MIPRLTDAERAALVDLLPEWSLAKDRDAIERRFAFADFSEAFAFMT...</td>\n",
       "    </tr>\n",
       "    <tr>\n",
       "      <th>3</th>\n",
       "      <td>Acidiphilium_cryptum</td>\n",
       "      <td>pth</td>\n",
       "      <td>MKLWVGLGNPEPGMARNRHNIGFMAIDVIADRHGFAPWRKRFSGLV...</td>\n",
       "    </tr>\n",
       "    <tr>\n",
       "      <th>4</th>\n",
       "      <td>Acidiphilium_cryptum</td>\n",
       "      <td>rplN</td>\n",
       "      <td>MIIVESNLDVADNSGARRVQCIKVLGGSKRRTASVGDVIVVSIKDA...</td>\n",
       "    </tr>\n",
       "    <tr>\n",
       "      <th>...</th>\n",
       "      <td>...</td>\n",
       "      <td>...</td>\n",
       "      <td>...</td>\n",
       "    </tr>\n",
       "    <tr>\n",
       "      <th>97726</th>\n",
       "      <td>Sulfobacillus _hermosulfidooxidans</td>\n",
       "      <td>C7B47_13575</td>\n",
       "      <td>MIRRSLLARWMLITSSVVALSLMTWALFSLFNVKTPEPARVMPVAH...</td>\n",
       "    </tr>\n",
       "    <tr>\n",
       "      <th>97727</th>\n",
       "      <td>Sulfobacillus _hermosulfidooxidans</td>\n",
       "      <td>mtaD</td>\n",
       "      <td>MRYRIETDAILTMDDEFRVFRPGQLTWEDGTIVSVGPVADDATPVD...</td>\n",
       "    </tr>\n",
       "    <tr>\n",
       "      <th>97728</th>\n",
       "      <td>Sulfobacillus _hermosulfidooxidans</td>\n",
       "      <td>crcB alt version 1</td>\n",
       "      <td>MNDIIIFVGGFLGAVARFQVGQWVGQRTSGGFPYGTLVINTLGCLF...</td>\n",
       "    </tr>\n",
       "    <tr>\n",
       "      <th>97729</th>\n",
       "      <td>Sulfobacillus _hermosulfidooxidans</td>\n",
       "      <td>C7B47_12330</td>\n",
       "      <td>MIFIFPFRGGTTRIYYDDSQSGSGSMSTHLTVKGTTVTVSPWFNNQ...</td>\n",
       "    </tr>\n",
       "    <tr>\n",
       "      <th>97730</th>\n",
       "      <td>Sulfobacillus _hermosulfidooxidans</td>\n",
       "      <td>C7B47_09860</td>\n",
       "      <td>MSTVLLVVIGLITGALTGFGGGSAVVIVVPALTQFLHIPFRMAVGT...</td>\n",
       "    </tr>\n",
       "  </tbody>\n",
       "</table>\n",
       "<p>97731 rows × 3 columns</p>\n",
       "</div>"
      ],
      "text/plain": [
       "                                 Organism                Gene  \\\n",
       "0                    Acidiphilium_cryptum               nuoN2   \n",
       "1                    Acidiphilium_cryptum                rlmE   \n",
       "2                    Acidiphilium_cryptum           Acry_0770   \n",
       "3                    Acidiphilium_cryptum                 pth   \n",
       "4                    Acidiphilium_cryptum                rplN   \n",
       "...                                   ...                 ...   \n",
       "97726  Sulfobacillus _hermosulfidooxidans         C7B47_13575   \n",
       "97727  Sulfobacillus _hermosulfidooxidans                mtaD   \n",
       "97728  Sulfobacillus _hermosulfidooxidans  crcB alt version 1   \n",
       "97729  Sulfobacillus _hermosulfidooxidans         C7B47_12330   \n",
       "97730  Sulfobacillus _hermosulfidooxidans         C7B47_09860   \n",
       "\n",
       "                                                Sequence  \n",
       "0      MTAPAFTAKAFAAFAPFTLLGAVTILVMLLIAVRRDHRLVALSTIA...  \n",
       "1      MTEETIGSRRRAAVRLKAARKHKPSSQKWLLRQLNDPYVAAAKERG...  \n",
       "2      MIPRLTDAERAALVDLLPEWSLAKDRDAIERRFAFADFSEAFAFMT...  \n",
       "3      MKLWVGLGNPEPGMARNRHNIGFMAIDVIADRHGFAPWRKRFSGLV...  \n",
       "4      MIIVESNLDVADNSGARRVQCIKVLGGSKRRTASVGDVIVVSIKDA...  \n",
       "...                                                  ...  \n",
       "97726  MIRRSLLARWMLITSSVVALSLMTWALFSLFNVKTPEPARVMPVAH...  \n",
       "97727  MRYRIETDAILTMDDEFRVFRPGQLTWEDGTIVSVGPVADDATPVD...  \n",
       "97728  MNDIIIFVGGFLGAVARFQVGQWVGQRTSGGFPYGTLVINTLGCLF...  \n",
       "97729  MIFIFPFRGGTTRIYYDDSQSGSGSMSTHLTVKGTTVTVSPWFNNQ...  \n",
       "97730  MSTVLLVVIGLITGALTGFGGGSAVVIVVPALTQFLHIPFRMAVGT...  \n",
       "\n",
       "[97731 rows x 3 columns]"
      ]
     },
     "execution_count": 4,
     "metadata": {},
     "output_type": "execute_result"
    }
   ],
   "source": [
    "organism_genes = pd.read_csv('organism_genes.csv')\n",
    "organism_genes"
   ]
  },
  {
   "cell_type": "code",
   "execution_count": 5,
   "metadata": {},
   "outputs": [
    {
     "data": {
      "text/plain": [
       "20"
      ]
     },
     "execution_count": 5,
     "metadata": {},
     "output_type": "execute_result"
    }
   ],
   "source": [
    "len(pd.unique(organism_genes.Organism))"
   ]
  },
  {
   "cell_type": "code",
   "execution_count": 6,
   "metadata": {},
   "outputs": [
    {
     "name": "stdout",
     "output_type": "stream",
     "text": [
      "20\n"
     ]
    },
    {
     "data": {
      "text/html": [
       "<div>\n",
       "<style scoped>\n",
       "    .dataframe tbody tr th:only-of-type {\n",
       "        vertical-align: middle;\n",
       "    }\n",
       "\n",
       "    .dataframe tbody tr th {\n",
       "        vertical-align: top;\n",
       "    }\n",
       "\n",
       "    .dataframe thead th {\n",
       "        text-align: right;\n",
       "    }\n",
       "</style>\n",
       "<table border=\"1\" class=\"dataframe\">\n",
       "  <thead>\n",
       "    <tr style=\"text-align: right;\">\n",
       "      <th></th>\n",
       "      <th>Unnamed: 0</th>\n",
       "      <th>Gene</th>\n",
       "      <th>Organism</th>\n",
       "    </tr>\n",
       "  </thead>\n",
       "  <tbody>\n",
       "    <tr>\n",
       "      <th>0</th>\n",
       "      <td>0</td>\n",
       "      <td>rpoD</td>\n",
       "      <td>acidovorans</td>\n",
       "    </tr>\n",
       "    <tr>\n",
       "      <th>1</th>\n",
       "      <td>2</td>\n",
       "      <td>rsfS</td>\n",
       "      <td>acidovorans</td>\n",
       "    </tr>\n",
       "    <tr>\n",
       "      <th>2</th>\n",
       "      <td>3</td>\n",
       "      <td>rpmB</td>\n",
       "      <td>acidovorans</td>\n",
       "    </tr>\n",
       "    <tr>\n",
       "      <th>3</th>\n",
       "      <td>6</td>\n",
       "      <td>infB</td>\n",
       "      <td>acidovorans</td>\n",
       "    </tr>\n",
       "    <tr>\n",
       "      <th>4</th>\n",
       "      <td>9</td>\n",
       "      <td>rpsF</td>\n",
       "      <td>acidovorans</td>\n",
       "    </tr>\n",
       "    <tr>\n",
       "      <th>...</th>\n",
       "      <td>...</td>\n",
       "      <td>...</td>\n",
       "      <td>...</td>\n",
       "    </tr>\n",
       "    <tr>\n",
       "      <th>3320</th>\n",
       "      <td>166987</td>\n",
       "      <td>map</td>\n",
       "      <td>tumefaciens</td>\n",
       "    </tr>\n",
       "    <tr>\n",
       "      <th>3321</th>\n",
       "      <td>167323</td>\n",
       "      <td>aroC</td>\n",
       "      <td>tumefaciens</td>\n",
       "    </tr>\n",
       "    <tr>\n",
       "      <th>3322</th>\n",
       "      <td>167950</td>\n",
       "      <td>rsmH</td>\n",
       "      <td>tumefaciens</td>\n",
       "    </tr>\n",
       "    <tr>\n",
       "      <th>3323</th>\n",
       "      <td>168394</td>\n",
       "      <td>lepA</td>\n",
       "      <td>tumefaciens</td>\n",
       "    </tr>\n",
       "    <tr>\n",
       "      <th>3324</th>\n",
       "      <td>168959</td>\n",
       "      <td>rsfS</td>\n",
       "      <td>tumefaciens</td>\n",
       "    </tr>\n",
       "  </tbody>\n",
       "</table>\n",
       "<p>3325 rows × 3 columns</p>\n",
       "</div>"
      ],
      "text/plain": [
       "      Unnamed: 0  Gene     Organism\n",
       "0              0  rpoD  acidovorans\n",
       "1              2  rsfS  acidovorans\n",
       "2              3  rpmB  acidovorans\n",
       "3              6  infB  acidovorans\n",
       "4              9  rpsF  acidovorans\n",
       "...          ...   ...          ...\n",
       "3320      166987   map  tumefaciens\n",
       "3321      167323  aroC  tumefaciens\n",
       "3322      167950  rsmH  tumefaciens\n",
       "3323      168394  lepA  tumefaciens\n",
       "3324      168959  rsfS  tumefaciens\n",
       "\n",
       "[3325 rows x 3 columns]"
      ]
     },
     "execution_count": 6,
     "metadata": {},
     "output_type": "execute_result"
    }
   ],
   "source": [
    "conserved_genes = pd.read_csv('Homologous_genes.csv')\n",
    "print(len(pd.unique(conserved_genes.Organism)))\n",
    "conserved_genes"
   ]
  },
  {
   "cell_type": "code",
   "execution_count": 7,
   "metadata": {},
   "outputs": [
    {
     "name": "stdout",
     "output_type": "stream",
     "text": [
      "304\n"
     ]
    }
   ],
   "source": [
    "genes = pd.unique(conserved_genes.Gene)\n",
    "print(len(genes))\n",
    "for gene in genes:\n",
    "    df = organism_genes[organism_genes.Gene.str.contains(gene)]\n",
    "    file_name = str('Gene_FASTA_Files\\\\' + gene + '.fasta')\n",
    "    outfile = open(file_name, 'w')\n",
    "    for row in df.itertuples():\n",
    "        header = str('> ' + row.Organism + ' ' + row.Gene + '\\n')\n",
    "        outfile.write(header)\n",
    "        outfile.write(row.Sequence)\n",
    "        outfile.write('\\n')\n",
    "    outfile.close()              "
   ]
  },
  {
   "cell_type": "code",
   "execution_count": 8,
   "metadata": {},
   "outputs": [
    {
     "data": {
      "text/plain": [
       "9"
      ]
     },
     "execution_count": 8,
     "metadata": {},
     "output_type": "execute_result"
    }
   ],
   "source": [
    "len(conserved_genes[~conserved_genes.Gene.isin(organism_genes.Gene)])"
   ]
  }
 ],
 "metadata": {
  "kernelspec": {
   "display_name": "Python 3",
   "language": "python",
   "name": "python3"
  },
  "language_info": {
   "codemirror_mode": {
    "name": "ipython",
    "version": 3
   },
   "file_extension": ".py",
   "mimetype": "text/x-python",
   "name": "python",
   "nbconvert_exporter": "python",
   "pygments_lexer": "ipython3",
   "version": "3.8.3"
  }
 },
 "nbformat": 4,
 "nbformat_minor": 4
}
