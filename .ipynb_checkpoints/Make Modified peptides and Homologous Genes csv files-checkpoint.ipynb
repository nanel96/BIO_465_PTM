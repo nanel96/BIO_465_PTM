{
 "cells": [
  {
   "cell_type": "code",
   "execution_count": 1,
   "metadata": {},
   "outputs": [],
   "source": [
    "import pandas as pd\n",
    "import glob\n",
    "import re"
   ]
  },
  {
   "cell_type": "code",
   "execution_count": 2,
   "metadata": {},
   "outputs": [],
   "source": [
    "pd.set_option('display.max_columns', None)"
   ]
  },
  {
   "cell_type": "code",
   "execution_count": 3,
   "metadata": {},
   "outputs": [
    {
     "data": {
      "text/plain": [
       "['MSFragger_Output\\\\acidorvorans_psm.tsv',\n",
       " 'MSFragger_Output\\\\acidovorans_psm.tsv',\n",
       " 'MSFragger_Output\\\\aurantiaca_psm.tsv',\n",
       " 'MSFragger_Output\\\\baltica_psm.tsv',\n",
       " 'MSFragger_Output\\\\cereus_psm.tsv',\n",
       " 'MSFragger_Output\\\\comes_psm.tsv',\n",
       " 'MSFragger_Output\\\\cryptum_psm.tsv',\n",
       " 'MSFragger_Output\\\\fragilis_psm.tsv',\n",
       " 'MSFragger_Output\\\\gilvus_psm.tsv',\n",
       " 'MSFragger_Output\\\\gnavus_psm.tsv',\n",
       " 'MSFragger_Output\\\\griseorubens_psm.tsv',\n",
       " 'MSFragger_Output\\\\ljungdahlii_psm.tsv',\n",
       " 'MSFragger_Output\\\\necator_psm.tsv',\n",
       " 'MSFragger_Output\\\\palustris_psm.tsv',\n",
       " 'MSFragger_Output\\\\subtilis_psm.tsv',\n",
       " 'MSFragger_Output\\\\thermosulf_psm.tsv',\n",
       " 'MSFragger_Output\\\\thet_psm.tsv']"
      ]
     },
     "execution_count": 3,
     "metadata": {},
     "output_type": "execute_result"
    }
   ],
   "source": [
    "psm_files = glob.glob(\"MSFragger_Output/*_psm.tsv\")\n",
    "psm_files"
   ]
  },
  {
   "cell_type": "code",
   "execution_count": 4,
   "metadata": {},
   "outputs": [
    {
     "data": {
      "text/plain": [
       "['MSFragger_Output\\\\acidovorans_01_run.tsv',\n",
       " 'MSFragger_Output\\\\acidovorans_02_run.tsv',\n",
       " 'MSFragger_Output\\\\acidovorans_03_run.tsv',\n",
       " 'MSFragger_Output\\\\aurantiaca_01_run.tsv',\n",
       " 'MSFragger_Output\\\\aurantiaca_02_run.tsv',\n",
       " 'MSFragger_Output\\\\aurantiaca_03_run.tsv',\n",
       " 'MSFragger_Output\\\\baltica_01C_run.tsv',\n",
       " 'MSFragger_Output\\\\baltica_01Inf_run.tsv',\n",
       " 'MSFragger_Output\\\\baltica_02C_run.tsv',\n",
       " 'MSFragger_Output\\\\baltica_02Inf_run.tsv',\n",
       " 'MSFragger_Output\\\\baltica_03C_run.tsv',\n",
       " 'MSFragger_Output\\\\baltica_03Inf_run.tsv',\n",
       " 'MSFragger_Output\\\\cereus_01_run.tsv',\n",
       " 'MSFragger_Output\\\\cereus_02_run.tsv',\n",
       " 'MSFragger_Output\\\\cereus_03_run.tsv',\n",
       " 'MSFragger_Output\\\\comes_Carb_run.tsv',\n",
       " 'MSFragger_Output\\\\comes_Glc_run.tsv',\n",
       " 'MSFragger_Output\\\\comes_LIB_run.tsv',\n",
       " 'MSFragger_Output\\\\cryptum_01_run.tsv',\n",
       " 'MSFragger_Output\\\\cryptum_02_run.tsv',\n",
       " 'MSFragger_Output\\\\cryptum_03_run.tsv',\n",
       " 'MSFragger_Output\\\\fragilis_01_run.tsv',\n",
       " 'MSFragger_Output\\\\fragilis_Carb_01_run.tsv',\n",
       " 'MSFragger_Output\\\\fragilis_CMcarb_anaerobic_01_run.tsv',\n",
       " 'MSFragger_Output\\\\fragilis_CMcarb_anaerobic_02_run.tsv',\n",
       " 'MSFragger_Output\\\\fragilis_CMgluc_anaerobic_01_run.tsv',\n",
       " 'MSFragger_Output\\\\fragilis_CMgluc_anaerobic_03_run.tsv',\n",
       " 'MSFragger_Output\\\\fragilis_LB_anaerobic_01_run.tsv',\n",
       " 'MSFragger_Output\\\\fragilis_LB_anaerobic_02_run.tsv',\n",
       " 'MSFragger_Output\\\\fragilis_LB_anaerobic_03_run.tsv',\n",
       " 'MSFragger_Output\\\\fragilis_LIB_aerobic_01_run.tsv',\n",
       " 'MSFragger_Output\\\\fragilis_LIB_aerobic_02_run.tsv',\n",
       " 'MSFragger_Output\\\\fragilis_LIB_aerobic_03_run.tsv',\n",
       " 'MSFragger_Output\\\\fragilis_LIB_anaerobic_01_run.tsv',\n",
       " 'MSFragger_Output\\\\fragilis_LIB_anaerobic_02_run.tsv',\n",
       " 'MSFragger_Output\\\\fragilis_LIB_anaerobic_03_run.tsv',\n",
       " 'MSFragger_Output\\\\gilvus_01_run.tsv',\n",
       " 'MSFragger_Output\\\\gilvus_02_run.tsv',\n",
       " 'MSFragger_Output\\\\gilvus_03_run.tsv',\n",
       " 'MSFragger_Output\\\\gnavus_run.tsv',\n",
       " 'MSFragger_Output\\\\griseorubens_01_run.tsv',\n",
       " 'MSFragger_Output\\\\griseorubens_02_run.tsv',\n",
       " 'MSFragger_Output\\\\griseorubens_03_run.tsv',\n",
       " 'MSFragger_Output\\\\ljungdahlii_CO_anaerobic_01_run.tsv',\n",
       " 'MSFragger_Output\\\\ljungdahlii_CO_anaerobic_02_run.tsv',\n",
       " 'MSFragger_Output\\\\ljungdahlii_CO_anaerobic_03_run.tsv',\n",
       " 'MSFragger_Output\\\\ljungdahlii_Fructose_anaerobic_01_run.tsv',\n",
       " 'MSFragger_Output\\\\ljungdahlii_Fructose_anaerobic_02_run.tsv',\n",
       " 'MSFragger_Output\\\\ljungdahlii_Fructose_anaerobic_03_run.tsv',\n",
       " 'MSFragger_Output\\\\necator_01_run.tsv',\n",
       " 'MSFragger_Output\\\\necator_02_run.tsv',\n",
       " 'MSFragger_Output\\\\necator_03_run.tsv',\n",
       " 'MSFragger_Output\\\\palustris_PMnitro_anaerobic_01_run.tsv',\n",
       " 'MSFragger_Output\\\\palustris_PMnitro_anaerobic_02_run.tsv',\n",
       " 'MSFragger_Output\\\\palustris_PMnitro_anaerobic_03_run.tsv',\n",
       " 'MSFragger_Output\\\\palustris_PMnonnitro_anaerobic_01_run.tsv',\n",
       " 'MSFragger_Output\\\\palustris_PMnonnitro_anaerobic_02_run.tsv',\n",
       " 'MSFragger_Output\\\\palustris_PMnonnitro_anaerobic_03_run.tsv',\n",
       " 'MSFragger_Output\\\\palustris_PM_aerobic_01_run.tsv',\n",
       " 'MSFragger_Output\\\\palustris_PM_aerobic_02_run.tsv',\n",
       " 'MSFragger_Output\\\\palustris_PM_aerobic_03_run.tsv',\n",
       " 'MSFragger_Output\\\\subtilis_01_run.tsv',\n",
       " 'MSFragger_Output\\\\subtilis_02_run.tsv',\n",
       " 'MSFragger_Output\\\\subtilis_03_run.tsv',\n",
       " 'MSFragger_Output\\\\thermosulf_01_run.tsv',\n",
       " 'MSFragger_Output\\\\thermosulf_02_run.tsv',\n",
       " 'MSFragger_Output\\\\thermosulf_03_run.tsv',\n",
       " 'MSFragger_Output\\\\thet_Carb_01_run.tsv',\n",
       " 'MSFragger_Output\\\\thet_CMcarb_anaerobic_01_run.tsv',\n",
       " 'MSFragger_Output\\\\thet_CMcarb_anaerobic_02_run.tsv',\n",
       " 'MSFragger_Output\\\\thet_CMcarb_anaerobic_03_run.tsv',\n",
       " 'MSFragger_Output\\\\thet_CMgluc_anaerobic_01_run.tsv',\n",
       " 'MSFragger_Output\\\\thet_CMgluc_anaerobic_02_run.tsv',\n",
       " 'MSFragger_Output\\\\thet_CMgluc_anaerobic_03_run.tsv',\n",
       " 'MSFragger_Output\\\\thet_Glc_01_run.tsv',\n",
       " 'MSFragger_Output\\\\thet_LB_anaerobic_01_run.tsv',\n",
       " 'MSFragger_Output\\\\thet_LB_anaerobic_02_run.tsv',\n",
       " 'MSFragger_Output\\\\thet_LB_anaerobic_03_run.tsv',\n",
       " 'MSFragger_Output\\\\thet_LIB_anaerobic_01_run.tsv',\n",
       " 'MSFragger_Output\\\\thet_LIB_anaerobic_02_run.tsv',\n",
       " 'MSFragger_Output\\\\thet_LIB_anaerobic_03_run.tsv']"
      ]
     },
     "execution_count": 4,
     "metadata": {},
     "output_type": "execute_result"
    }
   ],
   "source": [
    "run_files = glob.glob(\"MSFragger_Output/*_run.tsv\")\n",
    "run_files"
   ]
  },
  {
   "cell_type": "code",
   "execution_count": 5,
   "metadata": {},
   "outputs": [],
   "source": [
    "def extract_scannum(Spectrum):\n",
    "    pattern = r'\\.\\d*\\.'\n",
    "    lst = []\n",
    "    for s in Spectrum:\n",
    "        m = re.search(pattern, s)\n",
    "        if m:\n",
    "            m = m[0]\n",
    "            m = m.replace('.', '')\n",
    "            m = int(m)\n",
    "            lst.append(m)\n",
    "        else:\n",
    "            lst.append(None)\n",
    "    return (lst)"
   ]
  },
  {
   "cell_type": "code",
   "execution_count": 6,
   "metadata": {},
   "outputs": [],
   "source": [
    "def combine_run_files(files):\n",
    "    dfs = []\n",
    "    for file in files:\n",
    "        name = re.split('_run.tsv', file)\n",
    "        name = name[0]\n",
    "        pattern = r\"\\\\\"\n",
    "        name = re.split(pattern, name)\n",
    "        name = name[1]\n",
    "        name = re.split('_', name)\n",
    "        name = name[0]\n",
    "        df = pd.read_csv(file, sep = '\\t')\n",
    "        keeps = ['scannum', 'best_locs', 'peptide']\n",
    "        df = df[df.best_locs.notnull()]\n",
    "        df = df[keeps]\n",
    "        df['Organism'] = [name] * len(df)\n",
    "        df = df.rename(columns = {'peptide': 'Peptide'})\n",
    "        dfs.append(df)\n",
    "    dfs = pd.concat(dfs)\n",
    "    return (dfs)\n"
   ]
  },
  {
   "cell_type": "code",
   "execution_count": 7,
   "metadata": {},
   "outputs": [],
   "source": [
    "def combine_psm_files(files):\n",
    "    dfs = []\n",
    "    i = 0\n",
    "    for file in files:\n",
    "        name = re.split('_psm.tsv', file)\n",
    "        name = name[0]\n",
    "        pattern = r\"\\\\\"\n",
    "        name = re.split(pattern, name)\n",
    "        name = name[1]\n",
    "        keeps = ['scannum', 'Peptide', 'Observed Modifications', 'Protein ID', 'Gene']\n",
    "        df = pd.read_csv(file, sep = '\\t')   \n",
    "        df = df[df['PeptideProphet Probability'] >=0.99]\n",
    "        df = df[df['Observed Modifications'].notnull()]\n",
    "        df = df[df.Gene.notnull()]\n",
    "        df = df[~df.Gene.str.contains('Daci')]\n",
    "        df['scannum'] = extract_scannum(df.Spectrum)\n",
    "        df = df[keeps]\n",
    "        df['Organism'] = [name] * len(df)        \n",
    "        dfs.append(df)\n",
    "    df = pd.concat(dfs)\n",
    "    return(df)"
   ]
  },
  {
   "cell_type": "code",
   "execution_count": 8,
   "metadata": {
    "scrolled": true
   },
   "outputs": [
    {
     "name": "stderr",
     "output_type": "stream",
     "text": [
      "C:\\Users\\nanel\\anaconda3\\lib\\site-packages\\IPython\\core\\interactiveshell.py:3263: DtypeWarning: Columns (31,32) have mixed types.Specify dtype option on import or set low_memory=False.\n",
      "  if (await self.run_code(code, result,  async_=asy)):\n",
      "C:\\Users\\nanel\\anaconda3\\lib\\site-packages\\IPython\\core\\interactiveshell.py:3263: DtypeWarning: Columns (24) have mixed types.Specify dtype option on import or set low_memory=False.\n",
      "  if (await self.run_code(code, result,  async_=asy)):\n"
     ]
    }
   ],
   "source": [
    "combinded_psm_df = combine_psm_files(psm_files)\n",
    "combined_run_df = combine_run_files(run_files)"
   ]
  },
  {
   "cell_type": "code",
   "execution_count": 9,
   "metadata": {
    "scrolled": true
   },
   "outputs": [
    {
     "data": {
      "text/html": [
       "<div>\n",
       "<style scoped>\n",
       "    .dataframe tbody tr th:only-of-type {\n",
       "        vertical-align: middle;\n",
       "    }\n",
       "\n",
       "    .dataframe tbody tr th {\n",
       "        vertical-align: top;\n",
       "    }\n",
       "\n",
       "    .dataframe thead th {\n",
       "        text-align: right;\n",
       "    }\n",
       "</style>\n",
       "<table border=\"1\" class=\"dataframe\">\n",
       "  <thead>\n",
       "    <tr style=\"text-align: right;\">\n",
       "      <th></th>\n",
       "      <th>scannum</th>\n",
       "      <th>Peptide</th>\n",
       "      <th>Observed Modifications</th>\n",
       "      <th>Protein ID</th>\n",
       "      <th>Gene</th>\n",
       "      <th>Organism</th>\n",
       "      <th>best_locs</th>\n",
       "    </tr>\n",
       "  </thead>\n",
       "  <tbody>\n",
       "    <tr>\n",
       "      <th>0</th>\n",
       "      <td>1982</td>\n",
       "      <td>AAASSTAAAKTPAKR</td>\n",
       "      <td>Asn-&gt;Gln(14.015650), Asp-&gt;Glu(14.015650), Gly-...</td>\n",
       "      <td>A9BMX9</td>\n",
       "      <td>rpoD</td>\n",
       "      <td>acidovorans</td>\n",
       "      <td>AAASSTAAAkTPAKR</td>\n",
       "    </tr>\n",
       "    <tr>\n",
       "      <th>1</th>\n",
       "      <td>2020</td>\n",
       "      <td>AAASSTAAAKTPAKR</td>\n",
       "      <td>Ala-&gt;Val(28.031300), Cys-&gt;Met(28.031300), Delt...</td>\n",
       "      <td>A9BMX9</td>\n",
       "      <td>rpoD</td>\n",
       "      <td>acidovorans</td>\n",
       "      <td>AAASSTAAAktpakR</td>\n",
       "    </tr>\n",
       "    <tr>\n",
       "      <th>2</th>\n",
       "      <td>2040</td>\n",
       "      <td>AASAAAPAAGKKPAAK</td>\n",
       "      <td>Ala-&gt;Val(28.031300), Cys-&gt;Met(28.031300), Delt...</td>\n",
       "      <td>A9BWE0</td>\n",
       "      <td>rsfS</td>\n",
       "      <td>acidovorans</td>\n",
       "      <td>AASAAAPAAGkkpaaK</td>\n",
       "    </tr>\n",
       "    <tr>\n",
       "      <th>3</th>\n",
       "      <td>2046</td>\n",
       "      <td>KPMVGNNVSHANNK</td>\n",
       "      <td>Ala-&gt;Ser(15.994915), Oxidation(15.994915), Phe...</td>\n",
       "      <td>A9BNU9</td>\n",
       "      <td>rpmB</td>\n",
       "      <td>acidovorans</td>\n",
       "      <td>KPmVGNNVSHANNK</td>\n",
       "    </tr>\n",
       "    <tr>\n",
       "      <th>4</th>\n",
       "      <td>2148</td>\n",
       "      <td>AAASSTAAAKTPAK</td>\n",
       "      <td>Asn-&gt;Gln(14.015650), Asp-&gt;Glu(14.015650), Gly-...</td>\n",
       "      <td>A9BMX9</td>\n",
       "      <td>rpoD</td>\n",
       "      <td>acidovorans</td>\n",
       "      <td>AAASSTAAAktPAK</td>\n",
       "    </tr>\n",
       "    <tr>\n",
       "      <th>...</th>\n",
       "      <td>...</td>\n",
       "      <td>...</td>\n",
       "      <td>...</td>\n",
       "      <td>...</td>\n",
       "      <td>...</td>\n",
       "      <td>...</td>\n",
       "      <td>...</td>\n",
       "    </tr>\n",
       "    <tr>\n",
       "      <th>142141</th>\n",
       "      <td>53487</td>\n",
       "      <td>MVPPPLAFEVLDAVMEKLPGFPIVLHGSSSVPEEEVETINK</td>\n",
       "      <td>Tyr-&gt;Met(-32.022844)</td>\n",
       "      <td>Q8A734</td>\n",
       "      <td>BT_1691</td>\n",
       "      <td>thet</td>\n",
       "      <td>MVPPPLAFEVLDavmeklPGFPIVLHGSSSVPEEEVETINK</td>\n",
       "    </tr>\n",
       "    <tr>\n",
       "      <th>142142</th>\n",
       "      <td>53502</td>\n",
       "      <td>NMVTGAAQMDGAIIVCAATDGPMPQTR</td>\n",
       "      <td>Xle-&gt;Gly(-56.062600)</td>\n",
       "      <td>Q8A463</td>\n",
       "      <td>tuf</td>\n",
       "      <td>thet</td>\n",
       "      <td>NMVTGAAQMDGAIivcaATDGPMPQTR</td>\n",
       "    </tr>\n",
       "    <tr>\n",
       "      <th>142143</th>\n",
       "      <td>53503</td>\n",
       "      <td>CFFIELSEIITGK</td>\n",
       "      <td>Ammonia-loss(-17.026549), Gln-&gt;pyro-Glu(-17.02...</td>\n",
       "      <td>Q8A017</td>\n",
       "      <td>BT_4204</td>\n",
       "      <td>thet</td>\n",
       "      <td>cfFIELSEIITGK</td>\n",
       "    </tr>\n",
       "    <tr>\n",
       "      <th>142144</th>\n",
       "      <td>53516</td>\n",
       "      <td>QEVAQDIINHLVAVLTH</td>\n",
       "      <td>Ammonia-loss(-17.026549), Gln-&gt;pyro-Glu(-17.02...</td>\n",
       "      <td>Q8A812</td>\n",
       "      <td>coaBC</td>\n",
       "      <td>thet</td>\n",
       "      <td>qevAQDIINHLVAVLTH</td>\n",
       "    </tr>\n",
       "    <tr>\n",
       "      <th>142145</th>\n",
       "      <td>53554</td>\n",
       "      <td>IQLYCNQVYVTDSVEGIVPDFLTLLHGVIDSPDIPLNVSR</td>\n",
       "      <td>Arg-&gt;Thr(-55.053433)</td>\n",
       "      <td>Q8A9B8</td>\n",
       "      <td>htpG</td>\n",
       "      <td>thet</td>\n",
       "      <td>IQLycnqvyvtdsvegiVPDFLTLLHGVIDSPDIPLNVSR</td>\n",
       "    </tr>\n",
       "  </tbody>\n",
       "</table>\n",
       "<p>142146 rows × 7 columns</p>\n",
       "</div>"
      ],
      "text/plain": [
       "        scannum                                    Peptide  \\\n",
       "0          1982                            AAASSTAAAKTPAKR   \n",
       "1          2020                            AAASSTAAAKTPAKR   \n",
       "2          2040                           AASAAAPAAGKKPAAK   \n",
       "3          2046                             KPMVGNNVSHANNK   \n",
       "4          2148                             AAASSTAAAKTPAK   \n",
       "...         ...                                        ...   \n",
       "142141    53487  MVPPPLAFEVLDAVMEKLPGFPIVLHGSSSVPEEEVETINK   \n",
       "142142    53502                NMVTGAAQMDGAIIVCAATDGPMPQTR   \n",
       "142143    53503                              CFFIELSEIITGK   \n",
       "142144    53516                          QEVAQDIINHLVAVLTH   \n",
       "142145    53554   IQLYCNQVYVTDSVEGIVPDFLTLLHGVIDSPDIPLNVSR   \n",
       "\n",
       "                                   Observed Modifications Protein ID     Gene  \\\n",
       "0       Asn->Gln(14.015650), Asp->Glu(14.015650), Gly-...     A9BMX9     rpoD   \n",
       "1       Ala->Val(28.031300), Cys->Met(28.031300), Delt...     A9BMX9     rpoD   \n",
       "2       Ala->Val(28.031300), Cys->Met(28.031300), Delt...     A9BWE0     rsfS   \n",
       "3       Ala->Ser(15.994915), Oxidation(15.994915), Phe...     A9BNU9     rpmB   \n",
       "4       Asn->Gln(14.015650), Asp->Glu(14.015650), Gly-...     A9BMX9     rpoD   \n",
       "...                                                   ...        ...      ...   \n",
       "142141                               Tyr->Met(-32.022844)     Q8A734  BT_1691   \n",
       "142142                               Xle->Gly(-56.062600)     Q8A463      tuf   \n",
       "142143  Ammonia-loss(-17.026549), Gln->pyro-Glu(-17.02...     Q8A017  BT_4204   \n",
       "142144  Ammonia-loss(-17.026549), Gln->pyro-Glu(-17.02...     Q8A812    coaBC   \n",
       "142145                               Arg->Thr(-55.053433)     Q8A9B8     htpG   \n",
       "\n",
       "           Organism                                  best_locs  \n",
       "0       acidovorans                            AAASSTAAAkTPAKR  \n",
       "1       acidovorans                            AAASSTAAAktpakR  \n",
       "2       acidovorans                           AASAAAPAAGkkpaaK  \n",
       "3       acidovorans                             KPmVGNNVSHANNK  \n",
       "4       acidovorans                             AAASSTAAAktPAK  \n",
       "...             ...                                        ...  \n",
       "142141         thet  MVPPPLAFEVLDavmeklPGFPIVLHGSSSVPEEEVETINK  \n",
       "142142         thet                NMVTGAAQMDGAIivcaATDGPMPQTR  \n",
       "142143         thet                              cfFIELSEIITGK  \n",
       "142144         thet                          qevAQDIINHLVAVLTH  \n",
       "142145         thet   IQLycnqvyvtdsvegiVPDFLTLLHGVIDSPDIPLNVSR  \n",
       "\n",
       "[142146 rows x 7 columns]"
      ]
     },
     "execution_count": 9,
     "metadata": {},
     "output_type": "execute_result"
    }
   ],
   "source": [
    "df = pd.merge(combinded_psm_df, combined_run_df, how='inner')\n",
    "df"
   ]
  },
  {
   "cell_type": "code",
   "execution_count": 10,
   "metadata": {},
   "outputs": [
    {
     "data": {
      "text/html": [
       "<div>\n",
       "<style scoped>\n",
       "    .dataframe tbody tr th:only-of-type {\n",
       "        vertical-align: middle;\n",
       "    }\n",
       "\n",
       "    .dataframe tbody tr th {\n",
       "        vertical-align: top;\n",
       "    }\n",
       "\n",
       "    .dataframe thead th {\n",
       "        text-align: right;\n",
       "    }\n",
       "</style>\n",
       "<table border=\"1\" class=\"dataframe\">\n",
       "  <thead>\n",
       "    <tr style=\"text-align: right;\">\n",
       "      <th></th>\n",
       "      <th>scannum</th>\n",
       "      <th>Peptide</th>\n",
       "      <th>Observed Modifications</th>\n",
       "      <th>Protein ID</th>\n",
       "      <th>Gene</th>\n",
       "      <th>Organism</th>\n",
       "      <th>best_locs</th>\n",
       "    </tr>\n",
       "  </thead>\n",
       "  <tbody>\n",
       "    <tr>\n",
       "      <th>0</th>\n",
       "      <td>1982</td>\n",
       "      <td>AAASSTAAAKTPAKR</td>\n",
       "      <td>Asn-&gt;Gln(14.015650), Asp-&gt;Glu(14.015650), Gly-...</td>\n",
       "      <td>A9BMX9</td>\n",
       "      <td>rpoD</td>\n",
       "      <td>acidovorans</td>\n",
       "      <td>AAASSTAAAkTPAKR</td>\n",
       "    </tr>\n",
       "    <tr>\n",
       "      <th>1</th>\n",
       "      <td>2020</td>\n",
       "      <td>AAASSTAAAKTPAKR</td>\n",
       "      <td>Ala-&gt;Val(28.031300), Cys-&gt;Met(28.031300), Delt...</td>\n",
       "      <td>A9BMX9</td>\n",
       "      <td>rpoD</td>\n",
       "      <td>acidovorans</td>\n",
       "      <td>AAASSTAAAktpakR</td>\n",
       "    </tr>\n",
       "  </tbody>\n",
       "</table>\n",
       "</div>"
      ],
      "text/plain": [
       "   scannum          Peptide  \\\n",
       "0     1982  AAASSTAAAKTPAKR   \n",
       "1     2020  AAASSTAAAKTPAKR   \n",
       "\n",
       "                              Observed Modifications Protein ID  Gene  \\\n",
       "0  Asn->Gln(14.015650), Asp->Glu(14.015650), Gly-...     A9BMX9  rpoD   \n",
       "1  Ala->Val(28.031300), Cys->Met(28.031300), Delt...     A9BMX9  rpoD   \n",
       "\n",
       "      Organism        best_locs  \n",
       "0  acidovorans  AAASSTAAAkTPAKR  \n",
       "1  acidovorans  AAASSTAAAktpakR  "
      ]
     },
     "execution_count": 10,
     "metadata": {},
     "output_type": "execute_result"
    }
   ],
   "source": [
    "df.iloc[0:2]"
   ]
  },
  {
   "cell_type": "code",
   "execution_count": 11,
   "metadata": {},
   "outputs": [
    {
     "data": {
      "text/plain": [
       "['Asn->Gln(14.015650), Asp->Glu(14.015650), Gly->Ala(14.015650), Methyl(14.015650), Ser->Thr(14.015650), Val->Xle(14.015650)',\n",
       " 'Ala->Val(28.031300), Cys->Met(28.031300), Delta:H(4)C(2)(28.031300), Dimethyl(28.031300), Ethyl(28.031300)']"
      ]
     },
     "execution_count": 11,
     "metadata": {},
     "output_type": "execute_result"
    }
   ],
   "source": [
    "list(df.iloc[0:2]['Observed Modifications'])"
   ]
  },
  {
   "cell_type": "code",
   "execution_count": 12,
   "metadata": {},
   "outputs": [],
   "source": [
    "genes = df[['Gene', 'Organism']]\n",
    "genes = genes.drop_duplicates()\n",
    "genes = genes.groupby('Gene').count()\n",
    "genes = pd.DataFrame(genes)\n",
    "genes = genes[genes.Organism > 5]\n",
    "genes = genes.index\n",
    "homologous_genes = df[['Gene', 'Organism']]\n",
    "homologous_genes = homologous_genes.drop_duplicates()\n",
    "homologous_genes = homologous_genes[homologous_genes.Gene.isin(genes)]\n",
    "homologous_genes.to_csv('Homologous_genes.csv')"
   ]
  },
  {
   "cell_type": "code",
   "execution_count": 13,
   "metadata": {},
   "outputs": [
    {
     "data": {
      "text/plain": [
       "218"
      ]
     },
     "execution_count": 13,
     "metadata": {},
     "output_type": "execute_result"
    }
   ],
   "source": [
    "len(pd.unique(homologous_genes.Gene))"
   ]
  }
 ],
 "metadata": {
  "kernelspec": {
   "display_name": "Python 3",
   "language": "python",
   "name": "python3"
  },
  "language_info": {
   "codemirror_mode": {
    "name": "ipython",
    "version": 3
   },
   "file_extension": ".py",
   "mimetype": "text/x-python",
   "name": "python",
   "nbconvert_exporter": "python",
   "pygments_lexer": "ipython3",
   "version": "3.8.3"
  }
 },
 "nbformat": 4,
 "nbformat_minor": 4
}
