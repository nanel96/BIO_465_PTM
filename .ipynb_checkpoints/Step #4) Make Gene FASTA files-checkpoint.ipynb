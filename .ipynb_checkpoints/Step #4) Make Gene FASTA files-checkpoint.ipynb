{
 "cells": [
  {
   "cell_type": "code",
   "execution_count": 1,
   "metadata": {},
   "outputs": [],
   "source": [
    "from Bio import SeqIO\n",
    "import glob\n",
    "import re\n",
    "import pandas as pd"
   ]
  },
  {
   "cell_type": "code",
   "execution_count": 2,
   "metadata": {},
   "outputs": [
    {
     "name": "stdout",
     "output_type": "stream",
     "text": [
      "20\n"
     ]
    },
    {
     "data": {
      "text/plain": [
       "['Data/Organism_FASTA_Files\\\\Acidiphilium_cryptum.fasta',\n",
       " 'Data/Organism_FASTA_Files\\\\Bacillus_cereus.fasta',\n",
       " 'Data/Organism_FASTA_Files\\\\Bacillus_subtilis.fasta',\n",
       " 'Data/Organism_FASTA_Files\\\\Bacteroides_fragilis.fasta',\n",
       " 'Data/Organism_FASTA_Files\\\\Bacteroides_thetaiotaomicron.fasta',\n",
       " 'Data/Organism_FASTA_Files\\\\Cellulophaga_baltica.fasta',\n",
       " 'Data/Organism_FASTA_Files\\\\Cellvibrio_gilvus.fasta',\n",
       " 'Data/Organism_FASTA_Files\\\\Chryseobacterium_indologenes.fasta',\n",
       " 'Data/Organism_FASTA_Files\\\\Citrobacter_freundii.fasta',\n",
       " 'Data/Organism_FASTA_Files\\\\Coprococcus_comes.fasta',\n",
       " 'Data/Organism_FASTA_Files\\\\Cupriavidus_necator.fasta',\n",
       " 'Data/Organism_FASTA_Files\\\\Delftia_acidovorans.fasta',\n",
       " 'Data/Organism_FASTA_Files\\\\Mycobacterium_smegmatis.fasta',\n",
       " 'Data/Organism_FASTA_Files\\\\Paracoccus_denitrificans.fasta',\n",
       " 'Data/Organism_FASTA_Files\\\\Rhizobium_radiobacter.fasta',\n",
       " 'Data/Organism_FASTA_Files\\\\Rhodopseudomonas_palustris.fasta',\n",
       " 'Data/Organism_FASTA_Files\\\\Ruminococcus_gnavus.fasta',\n",
       " 'Data/Organism_FASTA_Files\\\\Stigmatella_aurantiaca.fasta',\n",
       " 'Data/Organism_FASTA_Files\\\\Streptomyces_griseorubens.fasta',\n",
       " 'Data/Organism_FASTA_Files\\\\Sulfobacillus_thermosulfidooxidans.fasta']"
      ]
     },
     "execution_count": 2,
     "metadata": {},
     "output_type": "execute_result"
    }
   ],
   "source": [
    "files = glob.glob('Data/Organism_FASTA_Files/*.fasta')\n",
    "print(len(files))\n",
    "files"
   ]
  },
  {
   "cell_type": "code",
   "execution_count": 3,
   "metadata": {},
   "outputs": [
    {
     "name": "stdout",
     "output_type": "stream",
     "text": [
      "Acidiphilium_cryptum\n",
      "Bacillus_cereus\n",
      "Bacillus_subtilis\n",
      "Bacteroides_fragilis\n",
      "Bacteroides_thetaiotaomicron\n",
      "Cellulophaga_baltica\n",
      "Cellvibrio_gilvus\n",
      "Chryseobacterium_indologenes\n",
      "Citrobacter_freundii\n",
      "Coprococcus_comes\n",
      "Cupriavidus_necator\n",
      "Delftia_acidovorans\n",
      "Mycobacterium_smegmatis\n",
      "Paracoccus_denitrificans\n",
      "Rhizobium_radiobacter\n",
      "Rhodopseudomonas_palustris\n",
      "Ruminococcus_gnavus\n",
      "Stigmatella_aurantiaca\n",
      "Streptomyces_griseorubens\n",
      "Sulfobacillus_thermosulfidooxidans\n"
     ]
    }
   ],
   "source": [
    "outfile = open('Data/organism_genes.csv', 'w')\n",
    "outfile.write('Organism,Gene,Sequence\\n')\n",
    "for file in files:\n",
    "    organism = re.search('[A-Za-z]+_[a-z]+', file)\n",
    "    organism = organism[0]\n",
    "    print(organism)\n",
    "    genes = []\n",
    "    for seq_record in SeqIO.parse(file, 'fasta'):\n",
    "        description = seq_record.description\n",
    "        gene_name = re.search('(?<=GN=)\\S*', description)\n",
    "        if gene_name:\n",
    "            gene_name = gene_name.group() \n",
    "            outfile.write(str(organism + ',' + gene_name + ',' + seq_record.seq +'\\n'))\n",
    "outfile.close()        "
   ]
  },
  {
   "cell_type": "code",
   "execution_count": 4,
   "metadata": {},
   "outputs": [
    {
     "data": {
      "text/html": [
       "<div>\n",
       "<style scoped>\n",
       "    .dataframe tbody tr th:only-of-type {\n",
       "        vertical-align: middle;\n",
       "    }\n",
       "\n",
       "    .dataframe tbody tr th {\n",
       "        vertical-align: top;\n",
       "    }\n",
       "\n",
       "    .dataframe thead th {\n",
       "        text-align: right;\n",
       "    }\n",
       "</style>\n",
       "<table border=\"1\" class=\"dataframe\">\n",
       "  <thead>\n",
       "    <tr style=\"text-align: right;\">\n",
       "      <th></th>\n",
       "      <th>Organism</th>\n",
       "      <th>Gene</th>\n",
       "      <th>Sequence</th>\n",
       "    </tr>\n",
       "  </thead>\n",
       "  <tbody>\n",
       "    <tr>\n",
       "      <th>0</th>\n",
       "      <td>Acidiphilium_cryptum</td>\n",
       "      <td>nuoN2</td>\n",
       "      <td>MTAPAFTAKAFAAFAPFTLLGAVTILVMLLIAVRRDHRLVALSTIA...</td>\n",
       "    </tr>\n",
       "    <tr>\n",
       "      <th>1</th>\n",
       "      <td>Acidiphilium_cryptum</td>\n",
       "      <td>rlmE</td>\n",
       "      <td>MTEETIGSRRRAAVRLKAARKHKPSSQKWLLRQLNDPYVAAAKERG...</td>\n",
       "    </tr>\n",
       "    <tr>\n",
       "      <th>2</th>\n",
       "      <td>Acidiphilium_cryptum</td>\n",
       "      <td>Acry_0770</td>\n",
       "      <td>MIPRLTDAERAALVDLLPEWSLAKDRDAIERRFAFADFSEAFAFMT...</td>\n",
       "    </tr>\n",
       "    <tr>\n",
       "      <th>3</th>\n",
       "      <td>Acidiphilium_cryptum</td>\n",
       "      <td>pth</td>\n",
       "      <td>MKLWVGLGNPEPGMARNRHNIGFMAIDVIADRHGFAPWRKRFSGLV...</td>\n",
       "    </tr>\n",
       "    <tr>\n",
       "      <th>4</th>\n",
       "      <td>Acidiphilium_cryptum</td>\n",
       "      <td>rplN</td>\n",
       "      <td>MIIVESNLDVADNSGARRVQCIKVLGGSKRRTASVGDVIVVSIKDA...</td>\n",
       "    </tr>\n",
       "    <tr>\n",
       "      <th>...</th>\n",
       "      <td>...</td>\n",
       "      <td>...</td>\n",
       "      <td>...</td>\n",
       "    </tr>\n",
       "    <tr>\n",
       "      <th>97726</th>\n",
       "      <td>Sulfobacillus_thermosulfidooxidans</td>\n",
       "      <td>C7B47_13575</td>\n",
       "      <td>MIRRSLLARWMLITSSVVALSLMTWALFSLFNVKTPEPARVMPVAH...</td>\n",
       "    </tr>\n",
       "    <tr>\n",
       "      <th>97727</th>\n",
       "      <td>Sulfobacillus_thermosulfidooxidans</td>\n",
       "      <td>mtaD</td>\n",
       "      <td>MRYRIETDAILTMDDEFRVFRPGQLTWEDGTIVSVGPVADDATPVD...</td>\n",
       "    </tr>\n",
       "    <tr>\n",
       "      <th>97728</th>\n",
       "      <td>Sulfobacillus_thermosulfidooxidans</td>\n",
       "      <td>crcB</td>\n",
       "      <td>MNDIIIFVGGFLGAVARFQVGQWVGQRTSGGFPYGTLVINTLGCLF...</td>\n",
       "    </tr>\n",
       "    <tr>\n",
       "      <th>97729</th>\n",
       "      <td>Sulfobacillus_thermosulfidooxidans</td>\n",
       "      <td>C7B47_12330</td>\n",
       "      <td>MIFIFPFRGGTTRIYYDDSQSGSGSMSTHLTVKGTTVTVSPWFNNQ...</td>\n",
       "    </tr>\n",
       "    <tr>\n",
       "      <th>97730</th>\n",
       "      <td>Sulfobacillus_thermosulfidooxidans</td>\n",
       "      <td>C7B47_09860</td>\n",
       "      <td>MSTVLLVVIGLITGALTGFGGGSAVVIVVPALTQFLHIPFRMAVGT...</td>\n",
       "    </tr>\n",
       "  </tbody>\n",
       "</table>\n",
       "<p>97731 rows × 3 columns</p>\n",
       "</div>"
      ],
      "text/plain": [
       "                                 Organism         Gene  \\\n",
       "0                    Acidiphilium_cryptum        nuoN2   \n",
       "1                    Acidiphilium_cryptum         rlmE   \n",
       "2                    Acidiphilium_cryptum    Acry_0770   \n",
       "3                    Acidiphilium_cryptum          pth   \n",
       "4                    Acidiphilium_cryptum         rplN   \n",
       "...                                   ...          ...   \n",
       "97726  Sulfobacillus_thermosulfidooxidans  C7B47_13575   \n",
       "97727  Sulfobacillus_thermosulfidooxidans         mtaD   \n",
       "97728  Sulfobacillus_thermosulfidooxidans         crcB   \n",
       "97729  Sulfobacillus_thermosulfidooxidans  C7B47_12330   \n",
       "97730  Sulfobacillus_thermosulfidooxidans  C7B47_09860   \n",
       "\n",
       "                                                Sequence  \n",
       "0      MTAPAFTAKAFAAFAPFTLLGAVTILVMLLIAVRRDHRLVALSTIA...  \n",
       "1      MTEETIGSRRRAAVRLKAARKHKPSSQKWLLRQLNDPYVAAAKERG...  \n",
       "2      MIPRLTDAERAALVDLLPEWSLAKDRDAIERRFAFADFSEAFAFMT...  \n",
       "3      MKLWVGLGNPEPGMARNRHNIGFMAIDVIADRHGFAPWRKRFSGLV...  \n",
       "4      MIIVESNLDVADNSGARRVQCIKVLGGSKRRTASVGDVIVVSIKDA...  \n",
       "...                                                  ...  \n",
       "97726  MIRRSLLARWMLITSSVVALSLMTWALFSLFNVKTPEPARVMPVAH...  \n",
       "97727  MRYRIETDAILTMDDEFRVFRPGQLTWEDGTIVSVGPVADDATPVD...  \n",
       "97728  MNDIIIFVGGFLGAVARFQVGQWVGQRTSGGFPYGTLVINTLGCLF...  \n",
       "97729  MIFIFPFRGGTTRIYYDDSQSGSGSMSTHLTVKGTTVTVSPWFNNQ...  \n",
       "97730  MSTVLLVVIGLITGALTGFGGGSAVVIVVPALTQFLHIPFRMAVGT...  \n",
       "\n",
       "[97731 rows x 3 columns]"
      ]
     },
     "execution_count": 4,
     "metadata": {},
     "output_type": "execute_result"
    }
   ],
   "source": [
    "organism_genes = pd.read_csv('Data/organism_genes.csv')\n",
    "organism_genes"
   ]
  },
  {
   "cell_type": "code",
   "execution_count": 5,
   "metadata": {},
   "outputs": [
    {
     "data": {
      "text/plain": [
       "20"
      ]
     },
     "execution_count": 5,
     "metadata": {},
     "output_type": "execute_result"
    }
   ],
   "source": [
    "len(pd.unique(organism_genes.Organism))"
   ]
  },
  {
   "cell_type": "code",
   "execution_count": 6,
   "metadata": {},
   "outputs": [
    {
     "data": {
      "text/html": [
       "<div>\n",
       "<style scoped>\n",
       "    .dataframe tbody tr th:only-of-type {\n",
       "        vertical-align: middle;\n",
       "    }\n",
       "\n",
       "    .dataframe tbody tr th {\n",
       "        vertical-align: top;\n",
       "    }\n",
       "\n",
       "    .dataframe thead th {\n",
       "        text-align: right;\n",
       "    }\n",
       "</style>\n",
       "<table border=\"1\" class=\"dataframe\">\n",
       "  <thead>\n",
       "    <tr style=\"text-align: right;\">\n",
       "      <th></th>\n",
       "      <th>Unnamed: 0</th>\n",
       "      <th>Gene</th>\n",
       "      <th>Organism</th>\n",
       "    </tr>\n",
       "  </thead>\n",
       "  <tbody>\n",
       "    <tr>\n",
       "      <th>0</th>\n",
       "      <td>0</td>\n",
       "      <td>secB</td>\n",
       "      <td>Acidiphilium_cryptum</td>\n",
       "    </tr>\n",
       "    <tr>\n",
       "      <th>1</th>\n",
       "      <td>1</td>\n",
       "      <td>prfA</td>\n",
       "      <td>Acidiphilium_cryptum</td>\n",
       "    </tr>\n",
       "    <tr>\n",
       "      <th>2</th>\n",
       "      <td>5</td>\n",
       "      <td>rplB</td>\n",
       "      <td>Acidiphilium_cryptum</td>\n",
       "    </tr>\n",
       "    <tr>\n",
       "      <th>3</th>\n",
       "      <td>6</td>\n",
       "      <td>prfB</td>\n",
       "      <td>Acidiphilium_cryptum</td>\n",
       "    </tr>\n",
       "    <tr>\n",
       "      <th>4</th>\n",
       "      <td>12</td>\n",
       "      <td>rpmD</td>\n",
       "      <td>Acidiphilium_cryptum</td>\n",
       "    </tr>\n",
       "    <tr>\n",
       "      <th>...</th>\n",
       "      <td>...</td>\n",
       "      <td>...</td>\n",
       "      <td>...</td>\n",
       "    </tr>\n",
       "    <tr>\n",
       "      <th>2832</th>\n",
       "      <td>102148</td>\n",
       "      <td>rplR</td>\n",
       "      <td>Sulfobacillus_thermosulfidooxidans</td>\n",
       "    </tr>\n",
       "    <tr>\n",
       "      <th>2833</th>\n",
       "      <td>102470</td>\n",
       "      <td>hisD</td>\n",
       "      <td>Sulfobacillus_thermosulfidooxidans</td>\n",
       "    </tr>\n",
       "    <tr>\n",
       "      <th>2834</th>\n",
       "      <td>102526</td>\n",
       "      <td>fabD</td>\n",
       "      <td>Sulfobacillus_thermosulfidooxidans</td>\n",
       "    </tr>\n",
       "    <tr>\n",
       "      <th>2835</th>\n",
       "      <td>102570</td>\n",
       "      <td>folD</td>\n",
       "      <td>Sulfobacillus_thermosulfidooxidans</td>\n",
       "    </tr>\n",
       "    <tr>\n",
       "      <th>2836</th>\n",
       "      <td>102715</td>\n",
       "      <td>rpe</td>\n",
       "      <td>Sulfobacillus_thermosulfidooxidans</td>\n",
       "    </tr>\n",
       "  </tbody>\n",
       "</table>\n",
       "<p>2837 rows × 3 columns</p>\n",
       "</div>"
      ],
      "text/plain": [
       "      Unnamed: 0  Gene                            Organism\n",
       "0              0  secB                Acidiphilium_cryptum\n",
       "1              1  prfA                Acidiphilium_cryptum\n",
       "2              5  rplB                Acidiphilium_cryptum\n",
       "3              6  prfB                Acidiphilium_cryptum\n",
       "4             12  rpmD                Acidiphilium_cryptum\n",
       "...          ...   ...                                 ...\n",
       "2832      102148  rplR  Sulfobacillus_thermosulfidooxidans\n",
       "2833      102470  hisD  Sulfobacillus_thermosulfidooxidans\n",
       "2834      102526  fabD  Sulfobacillus_thermosulfidooxidans\n",
       "2835      102570  folD  Sulfobacillus_thermosulfidooxidans\n",
       "2836      102715   rpe  Sulfobacillus_thermosulfidooxidans\n",
       "\n",
       "[2837 rows x 3 columns]"
      ]
     },
     "execution_count": 6,
     "metadata": {},
     "output_type": "execute_result"
    }
   ],
   "source": [
    "conserved_genes = pd.read_csv('Data/Homologous_genes.csv')\n",
    "conserved_genes"
   ]
  },
  {
   "cell_type": "code",
   "execution_count": 7,
   "metadata": {},
   "outputs": [
    {
     "name": "stdout",
     "output_type": "stream",
     "text": [
      "317\n"
     ]
    }
   ],
   "source": [
    "genes = pd.unique(conserved_genes.Gene)\n",
    "print(len(genes))\n",
    "headers = dict()\n",
    "for gene in genes:\n",
    "    df = organism_genes[organism_genes.Gene.str.contains(gene)]\n",
    "    file_name = str('Data\\\\Gene_FASTA_Files\\\\' + gene + '.fasta')\n",
    "    outfile = open(file_name, 'w')\n",
    "    for row in df.itertuples():\n",
    "        header = str('> ' + row.Organism + '(' + gene + ')')\n",
    "        if header in headers:\n",
    "            headers[header] += 1\n",
    "            header += '[alt v ' + str(headers[header]) + ']\\n' \n",
    "        else:\n",
    "            headers[header] = 0\n",
    "            header += '\\n'\n",
    "        outfile.write(header)\n",
    "        outfile.write(row.Sequence)\n",
    "        outfile.write('\\n')\n",
    "    outfile.close()              "
   ]
  },
  {
   "cell_type": "code",
   "execution_count": 8,
   "metadata": {},
   "outputs": [
    {
     "data": {
      "text/plain": [
       "7"
      ]
     },
     "execution_count": 8,
     "metadata": {},
     "output_type": "execute_result"
    }
   ],
   "source": [
    "len(conserved_genes[~conserved_genes.Gene.isin(organism_genes.Gene)])"
   ]
  }
 ],
 "metadata": {
  "kernelspec": {
   "display_name": "Python 3",
   "language": "python",
   "name": "python3"
  },
  "language_info": {
   "codemirror_mode": {
    "name": "ipython",
    "version": 3
   },
   "file_extension": ".py",
   "mimetype": "text/x-python",
   "name": "python",
   "nbconvert_exporter": "python",
   "pygments_lexer": "ipython3",
   "version": "3.8.3"
  }
 },
 "nbformat": 4,
 "nbformat_minor": 4
}
